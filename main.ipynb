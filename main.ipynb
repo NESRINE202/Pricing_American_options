{
 "cells": [
  {
   "cell_type": "code",
   "execution_count": 3,
   "metadata": {},
   "outputs": [],
   "source": [
    "import numpy as np \n",
    "from Option import Option\n",
    "from Dynamic_programming import DynamicPricing\n",
    "from Monte_carlo import MonteCarlo_simulator\n",
    "from Black_Scholes import black_scholes\n",
    "from collections import Counter"
   ]
  },
  {
   "cell_type": "markdown",
   "metadata": {},
   "source": [
    "# Geometric Brownian Motion"
   ]
  },
  {
   "cell_type": "markdown",
   "metadata": {},
   "source": [
    "## Monte carlo Simulations"
   ]
  },
  {
   "cell_type": "code",
   "execution_count": 4,
   "metadata": {},
   "outputs": [],
   "source": [
    "r = 0.05\n",
    "sigma = 0.02\n",
    "S0 = 1\n",
    "L = 5\n",
    "n =1000\n",
    "m = 50 \n",
    "k=0.95"
   ]
  },
  {
   "cell_type": "code",
   "execution_count": 5,
   "metadata": {},
   "outputs": [],
   "source": [
    "# Create Option object\n",
    "call = Option(s0=S0, T=L, K=k, call=True)\n",
    "payoff_0 = call.payoff(S0)\n",
    "\n",
    "# Create instance of MonteCarlo_simulator\n",
    "Simulation = MonteCarlo_simulator(S0, L, n,r=r,sigma=sigma,model_type=\"GBM\")\n",
    "\n",
    "# Simulate payoff\n",
    "price_simulation = Simulation.monte_carlo_price_simulator()\n",
    "\n",
    "payoff_simulation = Simulation.monte_carlo_payoff_simulator(call.payoff,price_simulation)"
   ]
  },
  {
   "cell_type": "markdown",
   "metadata": {},
   "source": [
    "Visualising the monte carlo paths"
   ]
  },
  {
   "cell_type": "code",
   "execution_count": 6,
   "metadata": {},
   "outputs": [
    {
     "ename": "KeyboardInterrupt",
     "evalue": "",
     "output_type": "error",
     "traceback": [
      "\u001b[1;31m---------------------------------------------------------------------------\u001b[0m",
      "\u001b[1;31mKeyboardInterrupt\u001b[0m                         Traceback (most recent call last)",
      "Cell \u001b[1;32mIn[6], line 1\u001b[0m\n\u001b[1;32m----> 1\u001b[0m \u001b[43mSimulation\u001b[49m\u001b[38;5;241;43m.\u001b[39;49m\u001b[43mvisualisation_price\u001b[49m\u001b[43m(\u001b[49m\u001b[43mprice_simulation\u001b[49m\u001b[43m)\u001b[49m\n",
      "File \u001b[1;32mc:\\Users\\chaim\\OneDrive\\Bureau\\projet\\Pricing_American_options\\Monte_carlo.py:52\u001b[0m, in \u001b[0;36mMonteCarlo_simulator.visualisation_price\u001b[1;34m(self, Price_simulation)\u001b[0m\n\u001b[0;32m     50\u001b[0m plt\u001b[38;5;241m.\u001b[39mfigure(figsize\u001b[38;5;241m=\u001b[39m(\u001b[38;5;241m10\u001b[39m, \u001b[38;5;241m6\u001b[39m))\n\u001b[0;32m     51\u001b[0m \u001b[38;5;28;01mfor\u001b[39;00m i \u001b[38;5;129;01min\u001b[39;00m \u001b[38;5;28mrange\u001b[39m(\u001b[38;5;28mself\u001b[39m\u001b[38;5;241m.\u001b[39mn): \u001b[38;5;66;03m#for each simulation, we plot the price evolution.\u001b[39;00m\n\u001b[1;32m---> 52\u001b[0m     \u001b[43mplt\u001b[49m\u001b[38;5;241;43m.\u001b[39;49m\u001b[43mplot\u001b[49m\u001b[43m(\u001b[49m\u001b[38;5;28;43mrange\u001b[39;49m\u001b[43m(\u001b[49m\u001b[38;5;28;43mself\u001b[39;49m\u001b[38;5;241;43m.\u001b[39;49m\u001b[43mL\u001b[49m\u001b[38;5;241;43m+\u001b[39;49m\u001b[38;5;241;43m1\u001b[39;49m\u001b[43m)\u001b[49m\u001b[43m,\u001b[49m\u001b[43m \u001b[49m\u001b[43mPrice_simulation\u001b[49m\u001b[43m,\u001b[49m\u001b[43m \u001b[49m\u001b[43mlabel\u001b[49m\u001b[38;5;241;43m=\u001b[39;49m\u001b[38;5;124;43mf\u001b[39;49m\u001b[38;5;124;43m\"\u001b[39;49m\u001b[38;5;124;43mPath \u001b[39;49m\u001b[38;5;132;43;01m{\u001b[39;49;00m\u001b[43mi\u001b[49m\u001b[38;5;241;43m+\u001b[39;49m\u001b[38;5;241;43m1\u001b[39;49m\u001b[38;5;132;43;01m}\u001b[39;49;00m\u001b[38;5;124;43m\"\u001b[39;49m\u001b[43m)\u001b[49m\n\u001b[0;32m     53\u001b[0m plt\u001b[38;5;241m.\u001b[39mtitle(\u001b[38;5;124m'\u001b[39m\u001b[38;5;124mMonte Carlo Simulation of Asset Prices\u001b[39m\u001b[38;5;124m'\u001b[39m)\n\u001b[0;32m     54\u001b[0m plt\u001b[38;5;241m.\u001b[39mxlabel(\u001b[38;5;124m'\u001b[39m\u001b[38;5;124mTime\u001b[39m\u001b[38;5;124m'\u001b[39m)\n",
      "File \u001b[1;32m~\\AppData\\Local\\Packages\\PythonSoftwareFoundation.Python.3.9_qbz5n2kfra8p0\\LocalCache\\local-packages\\Python39\\site-packages\\matplotlib\\pyplot.py:2728\u001b[0m, in \u001b[0;36mplot\u001b[1;34m(scalex, scaley, data, *args, **kwargs)\u001b[0m\n\u001b[0;32m   2726\u001b[0m \u001b[38;5;129m@_copy_docstring_and_deprecators\u001b[39m(Axes\u001b[38;5;241m.\u001b[39mplot)\n\u001b[0;32m   2727\u001b[0m \u001b[38;5;28;01mdef\u001b[39;00m \u001b[38;5;21mplot\u001b[39m(\u001b[38;5;241m*\u001b[39margs, scalex\u001b[38;5;241m=\u001b[39m\u001b[38;5;28;01mTrue\u001b[39;00m, scaley\u001b[38;5;241m=\u001b[39m\u001b[38;5;28;01mTrue\u001b[39;00m, data\u001b[38;5;241m=\u001b[39m\u001b[38;5;28;01mNone\u001b[39;00m, \u001b[38;5;241m*\u001b[39m\u001b[38;5;241m*\u001b[39mkwargs):\n\u001b[1;32m-> 2728\u001b[0m     \u001b[38;5;28;01mreturn\u001b[39;00m gca()\u001b[38;5;241m.\u001b[39mplot(\n\u001b[0;32m   2729\u001b[0m         \u001b[38;5;241m*\u001b[39margs, scalex\u001b[38;5;241m=\u001b[39mscalex, scaley\u001b[38;5;241m=\u001b[39mscaley,\n\u001b[0;32m   2730\u001b[0m         \u001b[38;5;241m*\u001b[39m\u001b[38;5;241m*\u001b[39m({\u001b[38;5;124m\"\u001b[39m\u001b[38;5;124mdata\u001b[39m\u001b[38;5;124m\"\u001b[39m: data} \u001b[38;5;28;01mif\u001b[39;00m data \u001b[38;5;129;01mis\u001b[39;00m \u001b[38;5;129;01mnot\u001b[39;00m \u001b[38;5;28;01mNone\u001b[39;00m \u001b[38;5;28;01melse\u001b[39;00m {}), \u001b[38;5;241m*\u001b[39m\u001b[38;5;241m*\u001b[39mkwargs)\n",
      "File \u001b[1;32m~\\AppData\\Local\\Packages\\PythonSoftwareFoundation.Python.3.9_qbz5n2kfra8p0\\LocalCache\\local-packages\\Python39\\site-packages\\matplotlib\\axes\\_axes.py:1662\u001b[0m, in \u001b[0;36mAxes.plot\u001b[1;34m(self, scalex, scaley, data, *args, **kwargs)\u001b[0m\n\u001b[0;32m   1419\u001b[0m \u001b[38;5;250m\u001b[39m\u001b[38;5;124;03m\"\"\"\u001b[39;00m\n\u001b[0;32m   1420\u001b[0m \u001b[38;5;124;03mPlot y versus x as lines and/or markers.\u001b[39;00m\n\u001b[0;32m   1421\u001b[0m \n\u001b[1;32m   (...)\u001b[0m\n\u001b[0;32m   1659\u001b[0m \u001b[38;5;124;03m(``'green'``) or hex strings (``'#008000'``).\u001b[39;00m\n\u001b[0;32m   1660\u001b[0m \u001b[38;5;124;03m\"\"\"\u001b[39;00m\n\u001b[0;32m   1661\u001b[0m kwargs \u001b[38;5;241m=\u001b[39m cbook\u001b[38;5;241m.\u001b[39mnormalize_kwargs(kwargs, mlines\u001b[38;5;241m.\u001b[39mLine2D)\n\u001b[1;32m-> 1662\u001b[0m lines \u001b[38;5;241m=\u001b[39m [\u001b[38;5;241m*\u001b[39m\u001b[38;5;28mself\u001b[39m\u001b[38;5;241m.\u001b[39m_get_lines(\u001b[38;5;241m*\u001b[39margs, data\u001b[38;5;241m=\u001b[39mdata, \u001b[38;5;241m*\u001b[39m\u001b[38;5;241m*\u001b[39mkwargs)]\n\u001b[0;32m   1663\u001b[0m \u001b[38;5;28;01mfor\u001b[39;00m line \u001b[38;5;129;01min\u001b[39;00m lines:\n\u001b[0;32m   1664\u001b[0m     \u001b[38;5;28mself\u001b[39m\u001b[38;5;241m.\u001b[39madd_line(line)\n",
      "File \u001b[1;32m~\\AppData\\Local\\Packages\\PythonSoftwareFoundation.Python.3.9_qbz5n2kfra8p0\\LocalCache\\local-packages\\Python39\\site-packages\\matplotlib\\axes\\_base.py:311\u001b[0m, in \u001b[0;36m_process_plot_var_args.__call__\u001b[1;34m(self, data, *args, **kwargs)\u001b[0m\n\u001b[0;32m    309\u001b[0m     this \u001b[38;5;241m+\u001b[39m\u001b[38;5;241m=\u001b[39m args[\u001b[38;5;241m0\u001b[39m],\n\u001b[0;32m    310\u001b[0m     args \u001b[38;5;241m=\u001b[39m args[\u001b[38;5;241m1\u001b[39m:]\n\u001b[1;32m--> 311\u001b[0m \u001b[38;5;28;01myield from\u001b[39;00m \u001b[38;5;28;43mself\u001b[39;49m\u001b[38;5;241;43m.\u001b[39;49m\u001b[43m_plot_args\u001b[49m\u001b[43m(\u001b[49m\n\u001b[0;32m    312\u001b[0m \u001b[43m    \u001b[49m\u001b[43mthis\u001b[49m\u001b[43m,\u001b[49m\u001b[43m \u001b[49m\u001b[43mkwargs\u001b[49m\u001b[43m,\u001b[49m\u001b[43m \u001b[49m\u001b[43mambiguous_fmt_datakey\u001b[49m\u001b[38;5;241;43m=\u001b[39;49m\u001b[43mambiguous_fmt_datakey\u001b[49m\u001b[43m)\u001b[49m\n",
      "File \u001b[1;32m~\\AppData\\Local\\Packages\\PythonSoftwareFoundation.Python.3.9_qbz5n2kfra8p0\\LocalCache\\local-packages\\Python39\\site-packages\\matplotlib\\axes\\_base.py:544\u001b[0m, in \u001b[0;36m_process_plot_var_args._plot_args\u001b[1;34m(self, tup, kwargs, return_kwargs, ambiguous_fmt_datakey)\u001b[0m\n\u001b[0;32m    542\u001b[0m     \u001b[38;5;28;01mreturn\u001b[39;00m \u001b[38;5;28mlist\u001b[39m(result)\n\u001b[0;32m    543\u001b[0m \u001b[38;5;28;01melse\u001b[39;00m:\n\u001b[1;32m--> 544\u001b[0m     \u001b[38;5;28;01mreturn\u001b[39;00m [l[\u001b[38;5;241m0\u001b[39m] \u001b[38;5;28;01mfor\u001b[39;00m l \u001b[38;5;129;01min\u001b[39;00m result]\n",
      "File \u001b[1;32m~\\AppData\\Local\\Packages\\PythonSoftwareFoundation.Python.3.9_qbz5n2kfra8p0\\LocalCache\\local-packages\\Python39\\site-packages\\matplotlib\\axes\\_base.py:544\u001b[0m, in \u001b[0;36m<listcomp>\u001b[1;34m(.0)\u001b[0m\n\u001b[0;32m    542\u001b[0m     \u001b[38;5;28;01mreturn\u001b[39;00m \u001b[38;5;28mlist\u001b[39m(result)\n\u001b[0;32m    543\u001b[0m \u001b[38;5;28;01melse\u001b[39;00m:\n\u001b[1;32m--> 544\u001b[0m     \u001b[38;5;28;01mreturn\u001b[39;00m [l[\u001b[38;5;241m0\u001b[39m] \u001b[38;5;28;01mfor\u001b[39;00m l \u001b[38;5;129;01min\u001b[39;00m result]\n",
      "File \u001b[1;32m~\\AppData\\Local\\Packages\\PythonSoftwareFoundation.Python.3.9_qbz5n2kfra8p0\\LocalCache\\local-packages\\Python39\\site-packages\\matplotlib\\axes\\_base.py:537\u001b[0m, in \u001b[0;36m<genexpr>\u001b[1;34m(.0)\u001b[0m\n\u001b[0;32m    534\u001b[0m \u001b[38;5;28;01melse\u001b[39;00m:\n\u001b[0;32m    535\u001b[0m     labels \u001b[38;5;241m=\u001b[39m [label] \u001b[38;5;241m*\u001b[39m n_datasets\n\u001b[1;32m--> 537\u001b[0m result \u001b[38;5;241m=\u001b[39m (\u001b[43mmake_artist\u001b[49m\u001b[43m(\u001b[49m\u001b[43mx\u001b[49m\u001b[43m[\u001b[49m\u001b[43m:\u001b[49m\u001b[43m,\u001b[49m\u001b[43m \u001b[49m\u001b[43mj\u001b[49m\u001b[43m \u001b[49m\u001b[38;5;241;43m%\u001b[39;49m\u001b[43m \u001b[49m\u001b[43mncx\u001b[49m\u001b[43m]\u001b[49m\u001b[43m,\u001b[49m\u001b[43m \u001b[49m\u001b[43my\u001b[49m\u001b[43m[\u001b[49m\u001b[43m:\u001b[49m\u001b[43m,\u001b[49m\u001b[43m \u001b[49m\u001b[43mj\u001b[49m\u001b[43m \u001b[49m\u001b[38;5;241;43m%\u001b[39;49m\u001b[43m \u001b[49m\u001b[43mncy\u001b[49m\u001b[43m]\u001b[49m\u001b[43m,\u001b[49m\u001b[43m \u001b[49m\u001b[43mkw\u001b[49m\u001b[43m,\u001b[49m\n\u001b[0;32m    538\u001b[0m \u001b[43m                      \u001b[49m\u001b[43m{\u001b[49m\u001b[38;5;241;43m*\u001b[39;49m\u001b[38;5;241;43m*\u001b[39;49m\u001b[43mkwargs\u001b[49m\u001b[43m,\u001b[49m\u001b[43m \u001b[49m\u001b[38;5;124;43m'\u001b[39;49m\u001b[38;5;124;43mlabel\u001b[39;49m\u001b[38;5;124;43m'\u001b[39;49m\u001b[43m:\u001b[49m\u001b[43m \u001b[49m\u001b[43mlabel\u001b[49m\u001b[43m}\u001b[49m\u001b[43m)\u001b[49m\n\u001b[0;32m    539\u001b[0m           \u001b[38;5;28;01mfor\u001b[39;00m j, label \u001b[38;5;129;01min\u001b[39;00m \u001b[38;5;28menumerate\u001b[39m(labels))\n\u001b[0;32m    541\u001b[0m \u001b[38;5;28;01mif\u001b[39;00m return_kwargs:\n\u001b[0;32m    542\u001b[0m     \u001b[38;5;28;01mreturn\u001b[39;00m \u001b[38;5;28mlist\u001b[39m(result)\n",
      "File \u001b[1;32m~\\AppData\\Local\\Packages\\PythonSoftwareFoundation.Python.3.9_qbz5n2kfra8p0\\LocalCache\\local-packages\\Python39\\site-packages\\matplotlib\\axes\\_base.py:351\u001b[0m, in \u001b[0;36m_process_plot_var_args._makeline\u001b[1;34m(self, x, y, kw, kwargs)\u001b[0m\n\u001b[0;32m    349\u001b[0m default_dict \u001b[38;5;241m=\u001b[39m \u001b[38;5;28mself\u001b[39m\u001b[38;5;241m.\u001b[39m_getdefaults(\u001b[38;5;28mset\u001b[39m(), kw)\n\u001b[0;32m    350\u001b[0m \u001b[38;5;28mself\u001b[39m\u001b[38;5;241m.\u001b[39m_setdefaults(default_dict, kw)\n\u001b[1;32m--> 351\u001b[0m seg \u001b[38;5;241m=\u001b[39m mlines\u001b[38;5;241m.\u001b[39mLine2D(x, y, \u001b[38;5;241m*\u001b[39m\u001b[38;5;241m*\u001b[39mkw)\n\u001b[0;32m    352\u001b[0m \u001b[38;5;28;01mreturn\u001b[39;00m seg, kw\n",
      "File \u001b[1;32m~\\AppData\\Local\\Packages\\PythonSoftwareFoundation.Python.3.9_qbz5n2kfra8p0\\LocalCache\\local-packages\\Python39\\site-packages\\matplotlib\\_api\\deprecation.py:454\u001b[0m, in \u001b[0;36mmake_keyword_only.<locals>.wrapper\u001b[1;34m(*args, **kwargs)\u001b[0m\n\u001b[0;32m    448\u001b[0m \u001b[38;5;28;01mif\u001b[39;00m \u001b[38;5;28mlen\u001b[39m(args) \u001b[38;5;241m>\u001b[39m name_idx:\n\u001b[0;32m    449\u001b[0m     warn_deprecated(\n\u001b[0;32m    450\u001b[0m         since, message\u001b[38;5;241m=\u001b[39m\u001b[38;5;124m\"\u001b[39m\u001b[38;5;124mPassing the \u001b[39m\u001b[38;5;132;01m%(name)s\u001b[39;00m\u001b[38;5;124m \u001b[39m\u001b[38;5;132;01m%(obj_type)s\u001b[39;00m\u001b[38;5;124m \u001b[39m\u001b[38;5;124m\"\u001b[39m\n\u001b[0;32m    451\u001b[0m         \u001b[38;5;124m\"\u001b[39m\u001b[38;5;124mpositionally is deprecated since Matplotlib \u001b[39m\u001b[38;5;132;01m%(since)s\u001b[39;00m\u001b[38;5;124m; the \u001b[39m\u001b[38;5;124m\"\u001b[39m\n\u001b[0;32m    452\u001b[0m         \u001b[38;5;124m\"\u001b[39m\u001b[38;5;124mparameter will become keyword-only \u001b[39m\u001b[38;5;132;01m%(removal)s\u001b[39;00m\u001b[38;5;124m.\u001b[39m\u001b[38;5;124m\"\u001b[39m,\n\u001b[0;32m    453\u001b[0m         name\u001b[38;5;241m=\u001b[39mname, obj_type\u001b[38;5;241m=\u001b[39m\u001b[38;5;124mf\u001b[39m\u001b[38;5;124m\"\u001b[39m\u001b[38;5;124mparameter of \u001b[39m\u001b[38;5;132;01m{\u001b[39;00mfunc\u001b[38;5;241m.\u001b[39m\u001b[38;5;18m__name__\u001b[39m\u001b[38;5;132;01m}\u001b[39;00m\u001b[38;5;124m()\u001b[39m\u001b[38;5;124m\"\u001b[39m)\n\u001b[1;32m--> 454\u001b[0m \u001b[38;5;28;01mreturn\u001b[39;00m func(\u001b[38;5;241m*\u001b[39margs, \u001b[38;5;241m*\u001b[39m\u001b[38;5;241m*\u001b[39mkwargs)\n",
      "File \u001b[1;32m~\\AppData\\Local\\Packages\\PythonSoftwareFoundation.Python.3.9_qbz5n2kfra8p0\\LocalCache\\local-packages\\Python39\\site-packages\\matplotlib\\lines.py:412\u001b[0m, in \u001b[0;36mLine2D.__init__\u001b[1;34m(self, xdata, ydata, linewidth, linestyle, color, gapcolor, marker, markersize, markeredgewidth, markeredgecolor, markerfacecolor, markerfacecoloralt, fillstyle, antialiased, dash_capstyle, solid_capstyle, dash_joinstyle, solid_joinstyle, pickradius, drawstyle, markevery, **kwargs)\u001b[0m\n\u001b[0;32m    409\u001b[0m \u001b[38;5;28mself\u001b[39m\u001b[38;5;241m.\u001b[39m_subslice \u001b[38;5;241m=\u001b[39m \u001b[38;5;28;01mFalse\u001b[39;00m\n\u001b[0;32m    410\u001b[0m \u001b[38;5;28mself\u001b[39m\u001b[38;5;241m.\u001b[39m_x_filled \u001b[38;5;241m=\u001b[39m \u001b[38;5;28;01mNone\u001b[39;00m  \u001b[38;5;66;03m# used in subslicing; only x is needed\u001b[39;00m\n\u001b[1;32m--> 412\u001b[0m \u001b[38;5;28;43mself\u001b[39;49m\u001b[38;5;241;43m.\u001b[39;49m\u001b[43mset_data\u001b[49m\u001b[43m(\u001b[49m\u001b[43mxdata\u001b[49m\u001b[43m,\u001b[49m\u001b[43m \u001b[49m\u001b[43mydata\u001b[49m\u001b[43m)\u001b[49m\n",
      "File \u001b[1;32m~\\AppData\\Local\\Packages\\PythonSoftwareFoundation.Python.3.9_qbz5n2kfra8p0\\LocalCache\\local-packages\\Python39\\site-packages\\matplotlib\\lines.py:651\u001b[0m, in \u001b[0;36mLine2D.set_data\u001b[1;34m(self, *args)\u001b[0m\n\u001b[0;32m    648\u001b[0m     x, y \u001b[38;5;241m=\u001b[39m args\n\u001b[0;32m    650\u001b[0m \u001b[38;5;28mself\u001b[39m\u001b[38;5;241m.\u001b[39mset_xdata(x)\n\u001b[1;32m--> 651\u001b[0m \u001b[38;5;28;43mself\u001b[39;49m\u001b[38;5;241;43m.\u001b[39;49m\u001b[43mset_ydata\u001b[49m\u001b[43m(\u001b[49m\u001b[43my\u001b[49m\u001b[43m)\u001b[49m\n",
      "File \u001b[1;32m~\\AppData\\Local\\Packages\\PythonSoftwareFoundation.Python.3.9_qbz5n2kfra8p0\\LocalCache\\local-packages\\Python39\\site-packages\\matplotlib\\lines.py:1291\u001b[0m, in \u001b[0;36mLine2D.set_ydata\u001b[1;34m(self, y)\u001b[0m\n\u001b[0;32m   1283\u001b[0m \u001b[38;5;28;01mdef\u001b[39;00m \u001b[38;5;21mset_ydata\u001b[39m(\u001b[38;5;28mself\u001b[39m, y):\n\u001b[0;32m   1284\u001b[0m \u001b[38;5;250m    \u001b[39m\u001b[38;5;124;03m\"\"\"\u001b[39;00m\n\u001b[0;32m   1285\u001b[0m \u001b[38;5;124;03m    Set the data array for y.\u001b[39;00m\n\u001b[0;32m   1286\u001b[0m \n\u001b[1;32m   (...)\u001b[0m\n\u001b[0;32m   1289\u001b[0m \u001b[38;5;124;03m    y : 1D array\u001b[39;00m\n\u001b[0;32m   1290\u001b[0m \u001b[38;5;124;03m    \"\"\"\u001b[39;00m\n\u001b[1;32m-> 1291\u001b[0m     \u001b[38;5;28mself\u001b[39m\u001b[38;5;241m.\u001b[39m_yorig \u001b[38;5;241m=\u001b[39m \u001b[43mcopy\u001b[49m\u001b[38;5;241;43m.\u001b[39;49m\u001b[43mcopy\u001b[49m\u001b[43m(\u001b[49m\u001b[43my\u001b[49m\u001b[43m)\u001b[49m\n\u001b[0;32m   1292\u001b[0m     \u001b[38;5;28mself\u001b[39m\u001b[38;5;241m.\u001b[39m_invalidy \u001b[38;5;241m=\u001b[39m \u001b[38;5;28;01mTrue\u001b[39;00m\n\u001b[0;32m   1293\u001b[0m     \u001b[38;5;28mself\u001b[39m\u001b[38;5;241m.\u001b[39mstale \u001b[38;5;241m=\u001b[39m \u001b[38;5;28;01mTrue\u001b[39;00m\n",
      "File \u001b[1;32mC:\\Program Files\\WindowsApps\\PythonSoftwareFoundation.Python.3.9_3.9.3568.0_x64__qbz5n2kfra8p0\\lib\\copy.py:84\u001b[0m, in \u001b[0;36mcopy\u001b[1;34m(x)\u001b[0m\n\u001b[0;32m     82\u001b[0m copier \u001b[38;5;241m=\u001b[39m \u001b[38;5;28mgetattr\u001b[39m(\u001b[38;5;28mcls\u001b[39m, \u001b[38;5;124m\"\u001b[39m\u001b[38;5;124m__copy__\u001b[39m\u001b[38;5;124m\"\u001b[39m, \u001b[38;5;28;01mNone\u001b[39;00m)\n\u001b[0;32m     83\u001b[0m \u001b[38;5;28;01mif\u001b[39;00m copier \u001b[38;5;129;01mis\u001b[39;00m \u001b[38;5;129;01mnot\u001b[39;00m \u001b[38;5;28;01mNone\u001b[39;00m:\n\u001b[1;32m---> 84\u001b[0m     \u001b[38;5;28;01mreturn\u001b[39;00m \u001b[43mcopier\u001b[49m\u001b[43m(\u001b[49m\u001b[43mx\u001b[49m\u001b[43m)\u001b[49m\n\u001b[0;32m     86\u001b[0m reductor \u001b[38;5;241m=\u001b[39m dispatch_table\u001b[38;5;241m.\u001b[39mget(\u001b[38;5;28mcls\u001b[39m)\n\u001b[0;32m     87\u001b[0m \u001b[38;5;28;01mif\u001b[39;00m reductor \u001b[38;5;129;01mis\u001b[39;00m \u001b[38;5;129;01mnot\u001b[39;00m \u001b[38;5;28;01mNone\u001b[39;00m:\n",
      "\u001b[1;31mKeyboardInterrupt\u001b[0m: "
     ]
    }
   ],
   "source": [
    "Simulation.visualisation_price(price_simulation)"
   ]
  },
  {
   "cell_type": "markdown",
   "metadata": {},
   "source": [
    "## Dynamic Pricing"
   ]
  },
  {
   "cell_type": "markdown",
   "metadata": {},
   "source": [
    "### Using Laguerre Basis"
   ]
  },
  {
   "cell_type": "code",
   "execution_count": 144,
   "metadata": {},
   "outputs": [
    {
     "name": "stdout",
     "output_type": "stream",
     "text": [
      "Dynamic Pricing: 0.06048035779153607\n",
      "Dynamic Pricing: 0.09049032000715163\n",
      "Dynamic Pricing: 0.07013613601612197\n",
      "Dynamic Pricing: 0.06007612948351488\n",
      "Dynamic Pricing: 0.059938695982900206\n"
     ]
    }
   ],
   "source": [
    "for i in range(5):\n",
    "    dynamic=DynamicPricing(S0, L, n,m,'Laguerre',call.payoff,r=r,sigma=sigma,model_type=\"GBM\")\n",
    "    u,_=dynamic.dynamic_prog_price()\n",
    "    print(\"Dynamic Pricing:\", u)"
   ]
  },
  {
   "cell_type": "markdown",
   "metadata": {},
   "source": [
    "### Using Polynomial Basis"
   ]
  },
  {
   "cell_type": "code",
   "execution_count": 33,
   "metadata": {},
   "outputs": [
    {
     "name": "stdout",
     "output_type": "stream",
     "text": [
      "Dynamic Pricing: 6.720785748746476\n",
      "Dynamic Pricing: 6.690401455895467\n",
      "Dynamic Pricing: 7.002018316245236\n",
      "Dynamic Pricing: 6.772375621150038\n",
      "Dynamic Pricing: 6.815581732516877\n"
     ]
    }
   ],
   "source": [
    "for i in range(5):\n",
    "    dynamic=DynamicPricing(S0, L, n,m,'poly',call.payoff,r=r,sigma=sigma,model_type=\"GBM\")\n",
    "    u,_=dynamic.dynamic_prog_price()\n",
    "    print(\"Dynamic Pricing:\", u)"
   ]
  },
  {
   "cell_type": "markdown",
   "metadata": {},
   "source": [
    "## Comparaison of the results with European option price using Black Scholes "
   ]
  },
  {
   "cell_type": "code",
   "execution_count": 18,
   "metadata": {},
   "outputs": [
    {
     "name": "stdout",
     "output_type": "stream",
     "text": [
      "The price of european option is  5.065047269372897\n"
     ]
    }
   ],
   "source": [
    "p=black_scholes(S0, k, L, r, sigma, option_type='call')\n",
    "print(\"The price of european option is \",p)"
   ]
  },
  {
   "cell_type": "markdown",
   "metadata": {},
   "source": [
    "## Optimal Exercise Boundary\n",
    " Verify that the dynamic programming algorithm accurately identifies the optimal exercise boundary, i.e., the boundary at which it is optimal to exercise the option rather than holding it. This boundary should be consistent with theoretical expectations and market conditions."
   ]
  },
  {
   "cell_type": "code",
   "execution_count": 1,
   "metadata": {},
   "outputs": [],
   "source": [
    "r = 0.05\n",
    "sigma = 0.1\n",
    "S0 = 100\n",
    "L = 10\n",
    "n =1000\n",
    "m = 50 \n",
    "k=95"
   ]
  },
  {
   "cell_type": "code",
   "execution_count": 129,
   "metadata": {},
   "outputs": [
    {
     "name": "stdout",
     "output_type": "stream",
     "text": [
      "option's exercise time: 2.0\n",
      "option's exercise time: 1.0\n",
      "option's exercise time: 1.0\n",
      "option's exercise time: 5.0\n",
      "option's exercise time: 3.0\n",
      "option's exercise time: 1.0\n",
      "option's exercise time: 3.0\n",
      "option's exercise time: 3.0\n",
      "option's exercise time: 2.0\n",
      "option's exercise time: 3.0\n",
      "option's exercise time: 3.0\n",
      "option's exercise time: 1.0\n",
      "option's exercise time: 1.0\n",
      "option's exercise time: 1.0\n",
      "option's exercise time: 1.0\n",
      "option's exercise time: 1.0\n",
      "option's exercise time: 1.0\n",
      "option's exercise time: 1.0\n",
      "option's exercise time: 2.0\n",
      "option's exercise time: 4.0\n",
      "option's exercise time: 3.0\n",
      "option's exercise time: 1.0\n",
      "option's exercise time: 1.0\n",
      "option's exercise time: 2.0\n",
      "option's exercise time: 1.0\n",
      "option's exercise time: 1.0\n",
      "option's exercise time: 2.0\n",
      "option's exercise time: 2.0\n",
      "option's exercise time: 2.0\n",
      "option's exercise time: 1.0\n",
      "option's exercise time: 1.0\n",
      "option's exercise time: 3.0\n",
      "option's exercise time: 1.0\n",
      "option's exercise time: 2.0\n",
      "option's exercise time: 1.0\n",
      "option's exercise time: 1.0\n",
      "option's exercise time: 1.0\n",
      "option's exercise time: 2.0\n",
      "option's exercise time: 3.0\n",
      "option's exercise time: 1.0\n",
      "option's exercise time: 1.0\n",
      "option's exercise time: 1.0\n",
      "option's exercise time: 2.0\n",
      "option's exercise time: 1.0\n",
      "option's exercise time: 3.0\n",
      "option's exercise time: 1.0\n",
      "option's exercise time: 3.0\n",
      "option's exercise time: 3.0\n",
      "option's exercise time: 2.0\n",
      "option's exercise time: 1.0\n",
      "option's exercise time: 1.0\n",
      "option's exercise time: 3.0\n",
      "option's exercise time: 3.0\n",
      "option's exercise time: 3.0\n",
      "option's exercise time: 1.0\n",
      "option's exercise time: 4.0\n",
      "option's exercise time: 1.0\n",
      "option's exercise time: 1.0\n",
      "option's exercise time: 1.0\n",
      "option's exercise time: 4.0\n",
      "option's exercise time: 1.0\n",
      "option's exercise time: 4.0\n",
      "option's exercise time: 1.0\n",
      "option's exercise time: 3.0\n",
      "option's exercise time: 3.0\n",
      "option's exercise time: 2.0\n",
      "option's exercise time: 2.0\n",
      "option's exercise time: 2.0\n",
      "option's exercise time: 2.0\n",
      "option's exercise time: 3.0\n",
      "option's exercise time: 1.0\n",
      "option's exercise time: 1.0\n",
      "option's exercise time: 1.0\n",
      "option's exercise time: 1.0\n",
      "option's exercise time: 1.0\n",
      "option's exercise time: 3.0\n",
      "option's exercise time: 2.0\n",
      "option's exercise time: 1.0\n",
      "option's exercise time: 1.0\n",
      "option's exercise time: 4.0\n",
      "option's exercise time: 1.0\n",
      "option's exercise time: 1.0\n",
      "option's exercise time: 2.0\n",
      "option's exercise time: 1.0\n",
      "option's exercise time: 2.0\n",
      "option's exercise time: 1.0\n",
      "option's exercise time: 1.0\n",
      "option's exercise time: 2.0\n",
      "option's exercise time: 3.0\n",
      "option's exercise time: 5.0\n",
      "option's exercise time: 2.0\n",
      "option's exercise time: 1.0\n",
      "option's exercise time: 1.0\n",
      "option's exercise time: 1.0\n",
      "option's exercise time: 3.0\n",
      "option's exercise time: 2.0\n",
      "option's exercise time: 3.0\n",
      "option's exercise time: 1.0\n",
      "option's exercise time: 2.0\n",
      "option's exercise time: 4.0\n"
     ]
    }
   ],
   "source": [
    "data=[]\n",
    "for i in range(100):\n",
    "    dynamic=DynamicPricing(S0, L, n,m,'Laguerre',call.payoff,r=r,sigma=sigma,model_type=\"GBM\")\n",
    "    u,tau=dynamic.dynamic_prog_price()\n",
    "    # Compte la fréquence de chaque élément dans la liste\n",
    "    counts = Counter(tau)\n",
    "    # Trouve la valeur avec la fréquence maximale\n",
    "    optimal_Tau, _ = counts.most_common(1)[0]\n",
    "    data.append(optimal_Tau)\n",
    "    print(\"option's exercise time:\", optimal_Tau)"
   ]
  },
  {
   "cell_type": "code",
   "execution_count": 130,
   "metadata": {},
   "outputs": [
    {
     "name": "stdout",
     "output_type": "stream",
     "text": [
      "5.0\n"
     ]
    },
    {
     "data": {
      "image/png": "[encoded data removed]",
      "text/plain": [
       "<Figure size 640x480 with 1 Axes>"
      ]
     },
     "metadata": {},
     "output_type": "display_data"
    }
   ],
   "source": [
    "import matplotlib.pyplot as plt\n",
    "# Determine the range of the data\n",
    "data_min = min(data)\n",
    "data_max = max(data)\n",
    "print(data_max - data_min + 1)\n",
    "# Plot histogram\n",
    "plt.hist(data, bins=9,  edgecolor='black')\n",
    "plt.title('Histogram of Sample Data')\n",
    "plt.xlabel('Values')\n",
    "plt.ylabel('Frequency')\n",
    "plt.xticks(range(int(data_min), 7))  # Adjust x-axis ticks to align with integer values\n",
    "plt.show()"
   ]
  },
  {
   "cell_type": "markdown",
   "metadata": {},
   "source": [
    "Observing that executing the option early, particularly before day 4 or 5, appears optimal, especially for a maturity of 10, underscores the significance of our findings. To further substantiate the precision and effectiveness of our dynamic programming approach, we aim to validate it against benchmark datasets featuring established exercise boundaries and option prices."
   ]
  },
  {
   "cell_type": "markdown",
   "metadata": {},
   "source": [
    "## Convergence of the algorithm"
   ]
  },
  {
   "cell_type": "code",
   "execution_count": 140,
   "metadata": {},
   "outputs": [
    {
     "name": "stdout",
     "output_type": "stream",
     "text": [
      "option price: 99.92488232887517\n",
      "option price: 101.1742704164956\n",
      "option price: 99.66092645094221\n",
      "option price: 99.84012285585574\n",
      "option price: 99.41273874952205\n",
      "option price: 99.44495104953836\n",
      "option price: 99.53675537148288\n",
      "option price: 101.14954638761488\n",
      "option price: 99.8855269621624\n",
      "option price: 99.41428071773322\n",
      "option price: 99.55331538367516\n",
      "option price: 99.50395097029923\n",
      "option price: 100.20165322361838\n",
      "option price: 99.68456100995313\n",
      "option price: 99.57509811125917\n",
      "option price: 100.4407326663325\n",
      "option price: 100.09413041928855\n",
      "option price: 100.1653564146468\n",
      "option price: 99.66671505236508\n",
      "option price: 99.48033804623341\n",
      "option price: 99.60949176689\n",
      "option price: 99.57239463398291\n",
      "option price: 99.56934657120804\n",
      "option price: 99.49516081552787\n",
      "option price: 99.56620167359084\n",
      "option price: 99.60364663474058\n",
      "option price: 99.57810275065538\n",
      "option price: 100.15600820196974\n",
      "option price: 99.52437671249574\n",
      "option price: 99.59616719363918\n",
      "option price: 99.54445321142421\n",
      "option price: 100.15649806961274\n",
      "option price: 99.58510535981284\n",
      "option price: 99.55126706449364\n",
      "option price: 99.62662457531607\n",
      "option price: 99.54288129019324\n",
      "option price: 99.58414342457483\n",
      "option price: 99.51584871178102\n",
      "option price: 99.48281373110613\n",
      "option price: 99.5653126333497\n",
      "option price: 99.54926667182002\n",
      "option price: 99.51852145041566\n",
      "option price: 100.12334287464805\n",
      "option price: 99.48467770650332\n",
      "option price: 99.53951248600308\n",
      "option price: 99.46254714644994\n",
      "option price: 100.02018624697175\n",
      "option price: 99.97429859784332\n",
      "option price: 99.5700027966764\n",
      "option price: 99.57645537386189\n",
      "option price: 99.50558349646612\n",
      "option price: 99.52736756098082\n",
      "option price: 99.47408805578196\n",
      "option price: 99.51766345848685\n",
      "option price: 99.57716158961341\n",
      "option price: 99.54020150149002\n",
      "option price: 99.52452857895292\n",
      "option price: 99.55722287044061\n",
      "option price: 99.59716070583303\n",
      "option price: 99.52500959939326\n",
      "option price: 100.01989368476859\n",
      "option price: 99.59877807831057\n",
      "option price: 99.54998228974958\n",
      "option price: 100.09935833836323\n",
      "option price: 99.49212105209952\n",
      "option price: 99.5922379490246\n",
      "option price: 99.5347146157752\n",
      "option price: 100.04351946534034\n",
      "option price: 99.59717095352842\n",
      "option price: 99.47456631083573\n",
      "option price: 99.55657950216863\n",
      "option price: 99.57749269409135\n",
      "option price: 99.61596134442087\n",
      "option price: 99.5167126661437\n",
      "option price: 99.51268158875885\n",
      "option price: 99.54312393997783\n",
      "option price: 99.5759722266528\n",
      "option price: 99.62669502975608\n",
      "option price: 99.48270849390046\n",
      "option price: 99.56833411389569\n",
      "option price: 99.50887617956816\n",
      "option price: 99.49805336486354\n",
      "option price: 99.57934845782415\n",
      "option price: 99.52081012109699\n",
      "option price: 99.58348325098386\n",
      "option price: 99.54549789713778\n",
      "option price: 99.55302129606778\n",
      "option price: 99.53156648788878\n",
      "option price: 99.54861815104536\n",
      "option price: 99.9867608376571\n",
      "option price: 99.48929425565063\n",
      "option price: 99.55589378246938\n",
      "option price: 99.52560389887525\n",
      "option price: 99.52973030708748\n",
      "option price: 99.57772163155106\n",
      "option price: 99.56403588270129\n",
      "option price: 99.50735935399061\n",
      "option price: 99.5055795281367\n",
      "option price: 99.58998255627652\n"
     ]
    }
   ],
   "source": [
    "prices=[]\n",
    "for i in range(1,100):\n",
    "    dynamic=DynamicPricing(S0, L, i*100,m,'Laguerre',call.payoff,r=r,sigma=sigma,model_type=\"GBM\")\n",
    "    u,_=dynamic.dynamic_prog_price()\n",
    "    prices.append(u)\n",
    "    print(\"option price:\", u)"
   ]
  },
  {
   "cell_type": "code",
   "execution_count": 142,
   "metadata": {},
   "outputs": [
    {
     "data": {
      "image/png": "[encoded data removed]",
      "text/plain": [
       "<Figure size 640x480 with 1 Axes>"
      ]
     },
     "metadata": {},
     "output_type": "display_data"
    }
   ],
   "source": [
    "X=[i*100 for i in range(1,100)]\n",
    "plt.plot(X,prices)\n",
    "plt.show()"
   ]
  },
  {
   "cell_type": "markdown",
   "metadata": {},
   "source": [
    "We can see that the algorithm converges as n takes larger values"
   ]
  },
  {
   "cell_type": "markdown",
   "metadata": {},
   "source": [
    "## Sensitivity analysis"
   ]
  },
  {
   "cell_type": "markdown",
   "metadata": {},
   "source": [
    "### Volatility"
   ]
  },
  {
   "cell_type": "code",
   "execution_count": null,
   "metadata": {},
   "outputs": [],
   "source": [
    "eps=0.01\n",
    "r = 0.05\n",
    "sigma = 0.1\n",
    "S0 = 100\n",
    "L = 10\n",
    "n =1000\n",
    "m = 50 \n",
    "k=95"
   ]
  },
  {
   "cell_type": "code",
   "execution_count": 2,
   "metadata": {},
   "outputs": [
    {
     "ename": "NameError",
     "evalue": "name 'DynamicPricing' is not defined",
     "output_type": "error",
     "traceback": [
      "\u001b[1;31m---------------------------------------------------------------------------\u001b[0m",
      "\u001b[1;31mNameError\u001b[0m                                 Traceback (most recent call last)",
      "Cell \u001b[1;32mIn[2], line 2\u001b[0m\n\u001b[0;32m      1\u001b[0m \u001b[38;5;28;01mfor\u001b[39;00m i \u001b[38;5;129;01min\u001b[39;00m \u001b[38;5;28mrange\u001b[39m(\u001b[38;5;241m1\u001b[39m,\u001b[38;5;241m100\u001b[39m):\n\u001b[1;32m----> 2\u001b[0m     dynamic\u001b[38;5;241m=\u001b[39m\u001b[43mDynamicPricing\u001b[49m(S0, L, \u001b[38;5;241m6000\u001b[39m,m,\u001b[38;5;124m'\u001b[39m\u001b[38;5;124mLaguerre\u001b[39m\u001b[38;5;124m'\u001b[39m,call\u001b[38;5;241m.\u001b[39mpayoff,r\u001b[38;5;241m=\u001b[39mr,sigma\u001b[38;5;241m=\u001b[39msigma,model_type\u001b[38;5;241m=\u001b[39m\u001b[38;5;124m\"\u001b[39m\u001b[38;5;124mGBM\u001b[39m\u001b[38;5;124m\"\u001b[39m)\n\u001b[0;32m      3\u001b[0m     u,_\u001b[38;5;241m=\u001b[39mdynamic\u001b[38;5;241m.\u001b[39mdynamic_prog_price()\n\u001b[0;32m      4\u001b[0m     \u001b[38;5;28mprint\u001b[39m(\u001b[38;5;124m\"\u001b[39m\u001b[38;5;124moption price:\u001b[39m\u001b[38;5;124m\"\u001b[39m, u)\n",
      "\u001b[1;31mNameError\u001b[0m: name 'DynamicPricing' is not defined"
     ]
    }
   ],
   "source": [
    "\n",
    "dynamic=DynamicPricing(S0, L, 8000,m,'Laguerre',call.payoff,r=r,sigma=sigma,model_type=\"GBM\")\n",
    "u,_=dynamic.dynamic_prog_price()\n",
    "print(\"option price:\", u)"
   ]
  }
 ],
 "metadata": {
  "kernelspec": {
   "display_name": "Python 3",
   "language": "python",
   "name": "python3"
  },
  "language_info": {
   "codemirror_mode": {
    "name": "ipython",
    "version": 3
   },
   "file_extension": ".py",
   "mimetype": "text/x-python",
   "name": "python",
   "nbconvert_exporter": "python",
   "pygments_lexer": "ipython3",
   "version": "3.9.13"
  }
 },
 "nbformat": 4,
 "nbformat_minor": 2
}
