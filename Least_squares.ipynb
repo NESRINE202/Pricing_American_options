{
 "cells": [
  {
   "cell_type": "code",
   "execution_count": 111,
   "metadata": {},
   "outputs": [],
   "source": [
    "import numpy as np \n",
    "from Option import Option\n",
    "from Dynamic_programming import DynamicPricing\n",
    "from Monte_carlo import MonteCarlo_simulator\n",
    "from Black_Scholes import black_scholes\n",
    "from collections import Counter"
   ]
  },
  {
   "cell_type": "markdown",
   "metadata": {},
   "source": [
    "# Geometric Brownian Motion"
   ]
  },
  {
   "cell_type": "markdown",
   "metadata": {},
   "source": [
    "## Monte Carlo Simulations"
   ]
  },
  {
   "cell_type": "code",
   "execution_count": 112,
   "metadata": {},
   "outputs": [],
   "source": [
    "r =0.01\n",
    "sigma = 0.5 #0.2\n",
    "S0 = 100\n",
    "L = 20\n",
    "n =10000\n",
    "m = 50 \n",
    "k=95"
   ]
  },
  {
   "cell_type": "code",
   "execution_count": 113,
   "metadata": {},
   "outputs": [],
   "source": [
    "# Create Option object\n",
    "call = Option(s0=S0, T=L, K=k, call=True)\n",
    "payoff_0 = call.payoff(S0)\n",
    "\n",
    "# Create instance of MonteCarlo_simulator\n",
    "Simulation = MonteCarlo_simulator(S0, L, n,r=r,sigma=sigma,model_type=\"GBM\")\n",
    "\n",
    "# Simulate payoff\n",
    "price_simulation = Simulation.monte_carlo_price_simulator()\n",
    "\n",
    "payoff_simulation = Simulation.monte_carlo_payoff_simulator(call.payoff,price_simulation)"
   ]
  },
  {
   "cell_type": "markdown",
   "metadata": {},
   "source": [
    "Visualising the monte carlo paths"
   ]
  },
  {
   "cell_type": "markdown",
   "metadata": {},
   "source": [
    "## Dynamic Pricing"
   ]
  },
  {
   "cell_type": "markdown",
   "metadata": {},
   "source": [
    "### Using Laguerre Basis"
   ]
  },
  {
   "cell_type": "code",
   "execution_count": 114,
   "metadata": {},
   "outputs": [
    {
     "name": "stdout",
     "output_type": "stream",
     "text": [
      "Dynamic Pricing: 6.137116402678018\n",
      "Dynamic Pricing: 6.1311763825300964\n",
      "Dynamic Pricing: 6.007413542133412\n",
      "Dynamic Pricing: 6.096800723793871\n",
      "Dynamic Pricing: 6.091872601640837\n"
     ]
    }
   ],
   "source": [
    "for i in range(5):\n",
    "    dynamic=DynamicPricing(S0, L, n,m,'Laguerre',call.payoff,r=r,sigma=sigma,model_type=\"GBM\")\n",
    "    u,_=dynamic.dynamic_prog_price()\n",
    "    print(\"Dynamic Pricing:\", u)"
   ]
  },
  {
   "cell_type": "code",
   "execution_count": 115,
   "metadata": {},
   "outputs": [
    {
     "data": {
      "text/plain": [
       "array([[ 1.,  1.,  1., ...,  1.,  1.,  1.],\n",
       "       [ 2.,  2.,  2., ...,  2.,  2.,  2.],\n",
       "       [ 3.,  3.,  3., ...,  3.,  3.,  3.],\n",
       "       ...,\n",
       "       [18., 18., 18., ..., 18., 18., 18.],\n",
       "       [19., 19., 19., ..., 19., 19., 19.],\n",
       "       [20., 20., 20., ..., 20., 20., 20.]])"
      ]
     },
     "execution_count": 115,
     "metadata": {},
     "output_type": "execute_result"
    }
   ],
   "source": [
    "_"
   ]
  },
  {
   "cell_type": "markdown",
   "metadata": {},
   "source": [
    "### Using Polynomial Basis"
   ]
  },
  {
   "cell_type": "code",
   "execution_count": 116,
   "metadata": {},
   "outputs": [
    {
     "name": "stdout",
     "output_type": "stream",
     "text": [
      "Dynamic Pricing: 7.626553975180109\n",
      "Dynamic Pricing: 7.576023908598545\n",
      "Dynamic Pricing: 7.621670983228835\n",
      "Dynamic Pricing: 7.4395109203406635\n",
      "Dynamic Pricing: 7.5549316184194755\n"
     ]
    }
   ],
   "source": [
    "for i in range(5):\n",
    "    dynamic=DynamicPricing(S0, L, n,m,'poly',call.payoff,r=r,sigma=sigma,model_type=\"GBM\")\n",
    "    u,_=dynamic.dynamic_prog_price()\n",
    "    print(\"Dynamic Pricing:\", u)"
   ]
  },
  {
   "cell_type": "markdown",
   "metadata": {},
   "source": [
    "## Comparison of the results with European option price using Black Scholes "
   ]
  },
  {
   "cell_type": "code",
   "execution_count": 117,
   "metadata": {},
   "outputs": [
    {
     "name": "stdout",
     "output_type": "stream",
     "text": [
      "The price of european option is  7.513169257273525\n"
     ]
    }
   ],
   "source": [
    "p=black_scholes(S0, k, L, r, sigma, option_type='call')\n",
    "print(\"The price of european option is \",p)"
   ]
  },
  {
   "cell_type": "markdown",
   "metadata": {},
   "source": [
    "## Optimal Exercise Boundary\n",
    " Verify that the dynamic programming algorithm accurately identifies the optimal exercise boundary, i.e., the boundary at which it is optimal to exercise the option rather than holding it. This boundary should be consistent with theoretical expectations and market conditions."
   ]
  },
  {
   "cell_type": "code",
   "execution_count": 118,
   "metadata": {},
   "outputs": [],
   "source": [
    "r = 0.0\n",
    "sigma = 0.1\n",
    "S0 = 100\n",
    "L = 20\n",
    "n =1000\n",
    "m = 50 \n",
    "k=95"
   ]
  },
  {
   "cell_type": "code",
   "execution_count": 125,
   "metadata": {},
   "outputs": [
    {
     "data": {
      "text/plain": [
       "5.011429997698798"
      ]
     },
     "execution_count": 125,
     "metadata": {},
     "output_type": "execute_result"
    }
   ],
   "source": [
    "black_scholes(S0, k, L, r, sigma, option_type='call')"
   ]
  },
  {
   "cell_type": "code",
   "execution_count": 119,
   "metadata": {},
   "outputs": [
    {
     "ename": "TypeError",
     "evalue": "unhashable type: 'numpy.ndarray'",
     "output_type": "error",
     "traceback": [
      "\u001b[1;31m---------------------------------------------------------------------------\u001b[0m",
      "\u001b[1;31mTypeError\u001b[0m                                 Traceback (most recent call last)",
      "Cell \u001b[1;32mIn[119], line 6\u001b[0m\n\u001b[0;32m      4\u001b[0m u,tau\u001b[38;5;241m=\u001b[39mdynamic\u001b[38;5;241m.\u001b[39mdynamic_prog_price()\n\u001b[0;32m      5\u001b[0m \u001b[38;5;66;03m# Compte la fréquence de chaque élément dans la liste\u001b[39;00m\n\u001b[1;32m----> 6\u001b[0m counts \u001b[38;5;241m=\u001b[39m \u001b[43mCounter\u001b[49m\u001b[43m(\u001b[49m\u001b[43mtau\u001b[49m\u001b[43m)\u001b[49m\n\u001b[0;32m      7\u001b[0m \u001b[38;5;66;03m# Trouve la valeur avec la fréquence maximale\u001b[39;00m\n\u001b[0;32m      8\u001b[0m optimal_Tau, _ \u001b[38;5;241m=\u001b[39m counts\u001b[38;5;241m.\u001b[39mmost_common(\u001b[38;5;241m1\u001b[39m)[\u001b[38;5;241m0\u001b[39m]\n",
      "File \u001b[1;32mC:\\Program Files\\WindowsApps\\PythonSoftwareFoundation.Python.3.10_3.10.3056.0_x64__qbz5n2kfra8p0\\lib\\collections\\__init__.py:577\u001b[0m, in \u001b[0;36mCounter.__init__\u001b[1;34m(self, iterable, **kwds)\u001b[0m\n\u001b[0;32m    566\u001b[0m \u001b[38;5;250m\u001b[39m\u001b[38;5;124;03m'''Create a new, empty Counter object.  And if given, count elements\u001b[39;00m\n\u001b[0;32m    567\u001b[0m \u001b[38;5;124;03mfrom an input iterable.  Or, initialize the count from another mapping\u001b[39;00m\n\u001b[0;32m    568\u001b[0m \u001b[38;5;124;03mof elements to their counts.\u001b[39;00m\n\u001b[1;32m   (...)\u001b[0m\n\u001b[0;32m    574\u001b[0m \n\u001b[0;32m    575\u001b[0m \u001b[38;5;124;03m'''\u001b[39;00m\n\u001b[0;32m    576\u001b[0m \u001b[38;5;28msuper\u001b[39m()\u001b[38;5;241m.\u001b[39m\u001b[38;5;21m__init__\u001b[39m()\n\u001b[1;32m--> 577\u001b[0m \u001b[38;5;28mself\u001b[39m\u001b[38;5;241m.\u001b[39mupdate(iterable, \u001b[38;5;241m*\u001b[39m\u001b[38;5;241m*\u001b[39mkwds)\n",
      "File \u001b[1;32mC:\\Program Files\\WindowsApps\\PythonSoftwareFoundation.Python.3.10_3.10.3056.0_x64__qbz5n2kfra8p0\\lib\\collections\\__init__.py:670\u001b[0m, in \u001b[0;36mCounter.update\u001b[1;34m(self, iterable, **kwds)\u001b[0m\n\u001b[0;32m    668\u001b[0m             \u001b[38;5;28msuper\u001b[39m()\u001b[38;5;241m.\u001b[39mupdate(iterable)\n\u001b[0;32m    669\u001b[0m     \u001b[38;5;28;01melse\u001b[39;00m:\n\u001b[1;32m--> 670\u001b[0m         \u001b[43m_count_elements\u001b[49m\u001b[43m(\u001b[49m\u001b[38;5;28;43mself\u001b[39;49m\u001b[43m,\u001b[49m\u001b[43m \u001b[49m\u001b[43miterable\u001b[49m\u001b[43m)\u001b[49m\n\u001b[0;32m    671\u001b[0m \u001b[38;5;28;01mif\u001b[39;00m kwds:\n\u001b[0;32m    672\u001b[0m     \u001b[38;5;28mself\u001b[39m\u001b[38;5;241m.\u001b[39mupdate(kwds)\n",
      "\u001b[1;31mTypeError\u001b[0m: unhashable type: 'numpy.ndarray'"
     ]
    }
   ],
   "source": [
    "data=[]\n",
    "for i in range(100):\n",
    "    dynamic=DynamicPricing(S0, L, n,m,'Laguerre',call.payoff,r=r,sigma=sigma,model_type=\"GBM\")\n",
    "    u,tau=dynamic.dynamic_prog_price()\n",
    "    # Compte la fréquence de chaque élément dans la liste\n",
    "    counts = Counter(tau)\n",
    "    # Trouve la valeur avec la fréquence maximale\n",
    "    optimal_Tau, _ = counts.most_common(1)[0]\n",
    "    data.append(optimal_Tau)\n",
    "    print(\"option's exercise time:\", optimal_Tau)"
   ]
  },
  {
   "cell_type": "code",
   "execution_count": null,
   "metadata": {},
   "outputs": [
    {
     "name": "stdout",
     "output_type": "stream",
     "text": [
      "5.0\n"
     ]
    },
    {
     "data": {
      "image/png": "[encoded data removed]",
      "text/plain": [
       "<Figure size 640x480 with 1 Axes>"
      ]
     },
     "metadata": {},
     "output_type": "display_data"
    }
   ],
   "source": [
    "import matplotlib.pyplot as plt\n",
    "# Determine the range of the data\n",
    "data_min = min(data)\n",
    "data_max = max(data)\n",
    "print(data_max - data_min + 1)\n",
    "# Plot histogram\n",
    "plt.hist(data, bins=9,  edgecolor='black')\n",
    "plt.title('Histogram of Sample Data')\n",
    "plt.xlabel('Values')\n",
    "plt.ylabel('Frequency')\n",
    "plt.xticks(range(int(data_min), 7))  # Adjust x-axis ticks to align with integer values\n",
    "plt.show()"
   ]
  },
  {
   "cell_type": "markdown",
   "metadata": {},
   "source": [
    "Observing that executing the option early, particularly before day 4 or 5, appears optimal, especially for a maturity of 10, underscores the significance of our findings. To further substantiate the precision and effectiveness of our dynamic programming approach, we aim to validate it against benchmark datasets featuring established exercise boundaries and option prices."
   ]
  },
  {
   "cell_type": "markdown",
   "metadata": {},
   "source": [
    "## Convergence of the algorithm"
   ]
  },
  {
   "cell_type": "code",
   "execution_count": null,
   "metadata": {},
   "outputs": [
    {
     "name": "stdout",
     "output_type": "stream",
     "text": [
      "option price: 5\n",
      "option price: 5.076662760568129\n",
      "option price: 5.037657387382938\n",
      "option price: 5.053787270413236\n",
      "option price: 5.032858975499141\n",
      "option price: 5.0258388128900195\n",
      "option price: 5.081347868296961\n",
      "option price: 5.120045916295891\n",
      "option price: 5\n",
      "option price: 5.221914487937008\n",
      "option price: 5.393708275583053\n",
      "option price: 5.079492704509156\n",
      "option price: 5\n",
      "option price: 5\n",
      "option price: 5\n",
      "option price: 5\n",
      "option price: 5\n",
      "option price: 5.1912744514347064\n",
      "option price: 5\n",
      "option price: 5.607647514082486\n",
      "option price: 5\n",
      "option price: 5.302074041925377\n",
      "option price: 5.036483847882607\n",
      "option price: 5.425304448453802\n",
      "option price: 5.181384941481902\n",
      "option price: 5\n",
      "option price: 5.05458245233277\n",
      "option price: 5\n",
      "option price: 5.01787838814438\n",
      "option price: 5.0385177728242345\n",
      "option price: 5\n",
      "option price: 5.052611086175405\n",
      "option price: 5.127701895300087\n",
      "option price: 5.0231470370859785\n",
      "option price: 5.0500981864159264\n",
      "option price: 5.008540590884378\n",
      "option price: 5.087525941086711\n",
      "option price: 5\n",
      "option price: 5.30287094146906\n",
      "option price: 5\n",
      "option price: 5\n",
      "option price: 5.130031966950775\n",
      "option price: 5.125742753688139\n",
      "option price: 5.030322795785464\n",
      "option price: 5.001560436557998\n",
      "option price: 5\n",
      "option price: 5.043751602307278\n",
      "option price: 5.021904751090521\n",
      "option price: 5.147734430770121\n",
      "option price: 5\n",
      "option price: 5.017372180234366\n",
      "option price: 5.017955510982514\n",
      "option price: 5.0208575532117035\n",
      "option price: 5.10099157928954\n",
      "option price: 5\n",
      "option price: 5.014303951146993\n",
      "option price: 5.001856439792411\n",
      "option price: 5.149204457807925\n",
      "option price: 5.220283245459642\n",
      "option price: 5.074082800830732\n",
      "option price: 5.152812429569138\n",
      "option price: 5.277639048322505\n",
      "option price: 5\n",
      "option price: 5.063728111816646\n",
      "option price: 5\n",
      "option price: 5\n",
      "option price: 5.05336667762472\n",
      "option price: 5.01169762520206\n",
      "option price: 5.407860625973771\n",
      "option price: 5.0592312319023955\n",
      "option price: 5\n",
      "option price: 5.086141025499087\n",
      "option price: 5\n",
      "option price: 5.0018069679151225\n",
      "option price: 5.0205200144828686\n",
      "option price: 5.063276743319206\n",
      "option price: 5.1033337138188735\n",
      "option price: 5.0643137616015395\n",
      "option price: 5.212985031578165\n",
      "option price: 5\n",
      "option price: 5\n",
      "option price: 5.005610018256468\n",
      "option price: 5.05135651996206\n",
      "option price: 5\n",
      "option price: 5.023450993594901\n",
      "option price: 5\n",
      "option price: 5.496646700836218\n",
      "option price: 5.0077144645899985\n",
      "option price: 5.022234462343522\n",
      "option price: 5\n",
      "option price: 5.020550792699548\n",
      "option price: 5\n",
      "option price: 5\n",
      "option price: 5\n",
      "option price: 5.0593472327088564\n",
      "option price: 5.081888058552568\n",
      "option price: 5.0018958381241445\n",
      "option price: 5.022972458243578\n",
      "option price: 5.025691577535855\n"
     ]
    }
   ],
   "source": [
    "prices=[]\n",
    "for i in range(1,100):\n",
    "    dynamic=DynamicPricing(S0, L, i*100,m,'Laguerre',call.payoff,r=r,sigma=sigma,model_type=\"GBM\")\n",
    "    u,_=dynamic.dynamic_prog_price()\n",
    "    prices.append(u)\n",
    "    print(\"option price:\", u)"
   ]
  },
  {
   "cell_type": "code",
   "execution_count": 122,
   "metadata": {},
   "outputs": [],
   "source": [
    "import matplotlib.pyplot as plt "
   ]
  },
  {
   "cell_type": "code",
   "execution_count": null,
   "metadata": {},
   "outputs": [
    {
     "data": {
      "text/plain": [
       "99"
      ]
     },
     "execution_count": 19,
     "metadata": {},
     "output_type": "execute_result"
    }
   ],
   "source": [
    "len(prices)"
   ]
  },
  {
   "cell_type": "code",
   "execution_count": null,
   "metadata": {},
   "outputs": [
    {
     "data": {
      "image/png": "[encoded data removed]",
      "text/plain": [
       "<Figure size 640x480 with 1 Axes>"
      ]
     },
     "metadata": {},
     "output_type": "display_data"
    }
   ],
   "source": [
    "X=[i*100 for i in range(1,100)]\n",
    "Prices_n = []\n",
    "x = []\n",
    "for i in range(99):\n",
    "    if not(abs(prices[i] -5.01)>=0.01) or (i<=10): \n",
    "        Prices_n.append(prices[i])\n",
    "        x.append(i*100)\n",
    "\n",
    "\n",
    "\n",
    "plt.plot(x,Prices_n)\n",
    "plt.title('Price convergence w.r.t n')\n",
    "plt.xlabel('Number of monte carlo simulations')\n",
    "plt.ylabel('Price')\n",
    "plt.grid(True)\n",
    "plt.show()"
   ]
  },
  {
   "cell_type": "markdown",
   "metadata": {},
   "source": [
    "We can see that the algorithm converges as n takes larger values"
   ]
  },
  {
   "cell_type": "code",
   "execution_count": 127,
   "metadata": {},
   "outputs": [
    {
     "name": "stdout",
     "output_type": "stream",
     "text": [
      "option price: 6.946803646732371\n",
      "option price: 5.315473345272469\n",
      "option price: 5\n",
      "option price: 5\n",
      "option price: 5.0230350625645555\n",
      "option price: 6.7982487857598635\n",
      "option price: 6.5068466441479815\n",
      "option price: 5.507855234443868\n",
      "option price: 5.529187704710782\n",
      "option price: 5.120131044020064\n",
      "option price: 5.123437092221539\n",
      "option price: 5.104137718814835\n",
      "option price: 5.13054283199817\n",
      "option price: 5.061051907726144\n",
      "option price: 5.003038424335995\n",
      "option price: 5.054312758333204\n",
      "option price: 5.029748024078193\n",
      "option price: 5.052410913742505\n",
      "option price: 5.048479000684496\n"
     ]
    }
   ],
   "source": [
    "prices_m=[]\n",
    "for i in range(5,100,5):\n",
    "    dynamic=DynamicPricing(S0, L, 10000,i,'poly',call.payoff,r=r,sigma=sigma,model_type=\"GBM\")\n",
    "    u,_=dynamic.dynamic_prog_price()\n",
    "    prices_m.append(u)\n",
    "    print(\"option price:\", u)"
   ]
  },
  {
   "cell_type": "code",
   "execution_count": 128,
   "metadata": {},
   "outputs": [
    {
     "data": {
      "image/png": "[encoded data removed]",
      "text/plain": [
       "<Figure size 640x480 with 1 Axes>"
      ]
     },
     "metadata": {},
     "output_type": "display_data"
    }
   ],
   "source": [
    "\n",
    "M = list(range(5,100,5))\n",
    "plt.plot(M,prices_m)\n",
    "plt.title('Price convergence w.r.t m')\n",
    "plt.xlabel('Dimension of the base')\n",
    "plt.ylabel('Price')\n",
    "plt.grid(True)\n",
    "plt.show()"
   ]
  },
  {
   "cell_type": "markdown",
   "metadata": {},
   "source": [
    "## Sensitivity analysis"
   ]
  },
  {
   "cell_type": "markdown",
   "metadata": {},
   "source": [
    "### Volatility"
   ]
  },
  {
   "cell_type": "code",
   "execution_count": null,
   "metadata": {},
   "outputs": [],
   "source": [
    "eps=0.01\n",
    "r = 0.05\n",
    "sigma = 0.1\n",
    "S0 = 100\n",
    "L = 10\n",
    "n =1000\n",
    "m = 50 \n",
    "k=95"
   ]
  },
  {
   "cell_type": "code",
   "execution_count": null,
   "metadata": {},
   "outputs": [
    {
     "ename": "NameError",
     "evalue": "name 'DynamicPricing' is not defined",
     "output_type": "error",
     "traceback": [
      "\u001b[1;31m---------------------------------------------------------------------------\u001b[0m",
      "\u001b[1;31mNameError\u001b[0m                                 Traceback (most recent call last)",
      "Cell \u001b[1;32mIn[2], line 2\u001b[0m\n\u001b[0;32m      1\u001b[0m \u001b[38;5;28;01mfor\u001b[39;00m i \u001b[38;5;129;01min\u001b[39;00m \u001b[38;5;28mrange\u001b[39m(\u001b[38;5;241m1\u001b[39m,\u001b[38;5;241m100\u001b[39m):\n\u001b[1;32m----> 2\u001b[0m     dynamic\u001b[38;5;241m=\u001b[39m\u001b[43mDynamicPricing\u001b[49m(S0, L, \u001b[38;5;241m6000\u001b[39m,m,\u001b[38;5;124m'\u001b[39m\u001b[38;5;124mLaguerre\u001b[39m\u001b[38;5;124m'\u001b[39m,call\u001b[38;5;241m.\u001b[39mpayoff,r\u001b[38;5;241m=\u001b[39mr,sigma\u001b[38;5;241m=\u001b[39msigma,model_type\u001b[38;5;241m=\u001b[39m\u001b[38;5;124m\"\u001b[39m\u001b[38;5;124mGBM\u001b[39m\u001b[38;5;124m\"\u001b[39m)\n\u001b[0;32m      3\u001b[0m     u,_\u001b[38;5;241m=\u001b[39mdynamic\u001b[38;5;241m.\u001b[39mdynamic_prog_price()\n\u001b[0;32m      4\u001b[0m     \u001b[38;5;28mprint\u001b[39m(\u001b[38;5;124m\"\u001b[39m\u001b[38;5;124moption price:\u001b[39m\u001b[38;5;124m\"\u001b[39m, u)\n",
      "\u001b[1;31mNameError\u001b[0m: name 'DynamicPricing' is not defined"
     ]
    }
   ],
   "source": [
    "\n",
    "dynamic=DynamicPricing(S0, L, 8000,m,'Laguerre',call.payoff,r=r,sigma=sigma,model_type=\"GBM\")\n",
    "u,_=dynamic.dynamic_prog_price()\n",
    "print(\"option price:\", u)"
   ]
  }
 ],
 "metadata": {
  "kernelspec": {
   "display_name": "Python 3",
   "language": "python",
   "name": "python3"
  },
  "language_info": {
   "codemirror_mode": {
    "name": "ipython",
    "version": 3
   },
   "file_extension": ".py",
   "mimetype": "text/x-python",
   "name": "python",
   "nbconvert_exporter": "python",
   "pygments_lexer": "ipython3",
   "version": "3.10.11"
  }
 },
 "nbformat": 4,
 "nbformat_minor": 2
}
